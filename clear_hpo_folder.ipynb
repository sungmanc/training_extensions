{
 "cells": [
  {
   "cell_type": "code",
   "execution_count": 1,
   "metadata": {},
   "outputs": [
    {
     "name": "stdout",
     "output_type": "stream",
     "text": [
      "/home/sungmanc/scripts/training_extensions/outputs/hpo_many_trial/flower_10p_up-A_lineareval/hpo\n",
      "/home/sungmanc/scripts/training_extensions/outputs/hpo_many_trial/flower_10p_imagenet_lineareval/hpo\n",
      "/home/sungmanc/scripts/training_extensions/outputs/hpo_many_trial/cifar100_10p_up-A_lineareval/hpo\n",
      "/home/sungmanc/scripts/training_extensions/outputs/hpo_many_trial/cifar100_10p_imagenet_lineareval/hpo\n"
     ]
    }
   ],
   "source": [
    "import os\n",
    "import shutil\n",
    "\n",
    "log_folder = '/home/sungmanc/scripts/training_extensions/outputs/hpo_many_trial'\n",
    "\n",
    "for exp_folders in os.listdir(log_folder):\n",
    "    for f in os.listdir(os.path.join(log_folder, exp_folders)):\n",
    "        if f == 'hpo':\n",
    "            print(os.path.join(log_folder, exp_folders, f))\n",
    "            shutil.rmtree(os.path.join(log_folder, exp_folders, f))\n",
    "            \n",
    "        \n",
    "        "
   ]
  },
  {
   "cell_type": "code",
   "execution_count": null,
   "metadata": {},
   "outputs": [],
   "source": []
  }
 ],
 "metadata": {
  "kernelspec": {
   "display_name": "Python 3.8.10 ('cur_task_venv': venv)",
   "language": "python",
   "name": "python3"
  },
  "language_info": {
   "codemirror_mode": {
    "name": "ipython",
    "version": 3
   },
   "file_extension": ".py",
   "mimetype": "text/x-python",
   "name": "python",
   "nbconvert_exporter": "python",
   "pygments_lexer": "ipython3",
   "version": "3.8.10"
  },
  "orig_nbformat": 4,
  "vscode": {
   "interpreter": {
    "hash": "8ca4f8577ed30fb792266f2dc9d73cd1b44e9baf426b9e2d249d5c44ce740f32"
   }
  }
 },
 "nbformat": 4,
 "nbformat_minor": 2
}
