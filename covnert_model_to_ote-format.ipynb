{
 "cells": [
  {
   "cell_type": "code",
   "execution_count": 3,
   "metadata": {},
   "outputs": [
    {
     "data": {
      "text/plain": [
       "dict_keys(['meta', 'state_dict', 'optimizer'])"
      ]
     },
     "execution_count": 3,
     "metadata": {},
     "output_type": "execute_result"
    }
   ],
   "source": [
    "import torch\n",
    "\n",
    "ckpt_path = '/home/sungmanc/scripts/pretrained_weights/INTERN-r50-up-A-COCO_ATSS_multiscale_head_48ep.pth'\n",
    "ckpt = torch.load(ckpt_path, map_location='cpu')\n",
    "ckpt.keys()"
   ]
  },
  {
   "cell_type": "code",
   "execution_count": 5,
   "metadata": {},
   "outputs": [],
   "source": [
    "new_ckpt = {'meta':ckpt['meta'], 'model':ckpt['state_dict']}\n",
    "torch.save(new_ckpt, '/home/sungmanc/scripts/pretrained_weights/INTERN-r50-up-A-COCO_ATSS_multiscale_head_48ep_ote-format.pth')"
   ]
  },
  {
   "cell_type": "code",
   "execution_count": null,
   "metadata": {},
   "outputs": [],
   "source": []
  }
 ],
 "metadata": {
  "kernelspec": {
   "display_name": "Python 3.8.10 ('cur_task_venv': venv)",
   "language": "python",
   "name": "python3"
  },
  "language_info": {
   "codemirror_mode": {
    "name": "ipython",
    "version": 3
   },
   "file_extension": ".py",
   "mimetype": "text/x-python",
   "name": "python",
   "nbconvert_exporter": "python",
   "pygments_lexer": "ipython3",
   "version": "3.8.10"
  },
  "orig_nbformat": 4,
  "vscode": {
   "interpreter": {
    "hash": "8ca4f8577ed30fb792266f2dc9d73cd1b44e9baf426b9e2d249d5c44ce740f32"
   }
  }
 },
 "nbformat": 4,
 "nbformat_minor": 2
}
