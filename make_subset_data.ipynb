{
 "cells": [
  {
   "cell_type": "code",
   "execution_count": 7,
   "metadata": {},
   "outputs": [],
   "source": [
    "import shutil\n",
    "import os\n",
    "import random\n",
    "import pathlib\n",
    "\n",
    "# 0. set the default variables\n",
    "dataset = 'xray'\n",
    "num_classes = 2\n",
    "num_images_per_class = 6\n",
    "\n",
    "data_root = '/home/sungmanc/scripts/training_extensions/data/{}'.format(dataset)\n",
    "train_data_root = os.path.join(data_root, 'train')\n",
    "test_data_root = os.path.join(data_root, 'test')\n",
    "output_path = '/home/sungmanc/scripts/training_extensions/data/{}_{}class_{}'.format(dataset, num_classes, num_classes*num_images_per_class)\n",
    "train_output_path = os.path.join(output_path, 'train')\n",
    "test_output_path = os.path.join(output_path, 'test')\n",
    "\n",
    "# 1. sampling the classes\n",
    "classes = os.listdir(train_data_root)\n",
    "random_classes = random.sample(classes, num_classes)"
   ]
  },
  {
   "cell_type": "code",
   "execution_count": 8,
   "metadata": {},
   "outputs": [],
   "source": [
    "# 2. sampling files in each random sampled classes (train)\n",
    "for c in random_classes:\n",
    "    c_path = os.path.join(train_data_root, c)\n",
    "    dst_folder_path = os.path.join(train_output_path, c)\n",
    "    pathlib.Path(dst_folder_path).mkdir(parents=True, exist_ok=True)\n",
    "    \n",
    "    file_list_in_class = os.listdir(c_path)\n",
    "    sampled_file_list = random.sample(file_list_in_class, num_images_per_class)\n",
    "    \n",
    "    for sampled_file in sampled_file_list:\n",
    "        sampled_file_full_path = os.path.join(c_path, sampled_file)\n",
    "        dst_file_full_path = os.path.join(dst_folder_path, sampled_file)\n",
    "        \n",
    "        shutil.copy2(sampled_file_full_path, dst_file_full_path)\n",
    "\n",
    "for c in random_classes:\n",
    "    c_path = os.path.join(test_data_root, c)\n",
    "    dst_folder_path = os.path.join(test_output_path, c)\n",
    "    pathlib.Path(dst_folder_path).mkdir(parents=True, exist_ok=True)\n",
    "    \n",
    "    file_list_in_class = os.listdir(c_path)\n",
    "    for sampled_file in file_list_in_class:\n",
    "        sampled_file_full_path = os.path.join(c_path, sampled_file)\n",
    "        dst_file_full_path = os.path.join(dst_folder_path, sampled_file)\n",
    "        \n",
    "        shutil.copy2(sampled_file_full_path, dst_file_full_path)"
   ]
  },
  {
   "cell_type": "code",
   "execution_count": null,
   "metadata": {},
   "outputs": [],
   "source": []
  }
 ],
 "metadata": {
  "kernelspec": {
   "display_name": "Python 3.8.10 ('cur_task_venv': venv)",
   "language": "python",
   "name": "python3"
  },
  "language_info": {
   "codemirror_mode": {
    "name": "ipython",
    "version": 3
   },
   "file_extension": ".py",
   "mimetype": "text/x-python",
   "name": "python",
   "nbconvert_exporter": "python",
   "pygments_lexer": "ipython3",
   "version": "3.8.10"
  },
  "orig_nbformat": 4,
  "vscode": {
   "interpreter": {
    "hash": "8ca4f8577ed30fb792266f2dc9d73cd1b44e9baf426b9e2d249d5c44ce740f32"
   }
  }
 },
 "nbformat": 4,
 "nbformat_minor": 2
}
